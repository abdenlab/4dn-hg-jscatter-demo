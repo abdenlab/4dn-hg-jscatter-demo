{
 "cells": [
  {
   "cell_type": "code",
   "execution_count": 3,
   "id": "a648a9d4-ff95-4302-8efa-c30a3bf3681c",
   "metadata": {},
   "outputs": [
    {
     "name": "stdout",
     "output_type": "stream",
     "text": [
      "The autoreload extension is already loaded. To reload it, use:\n",
      "  %reload_ext autoreload\n"
     ]
    }
   ],
   "source": [
    "%load_ext autoreload\n",
    "%autoreload 2\n",
    "\n",
    "import pandas as pd\n",
    "import matplotlib.colors as colors\n",
    "\n",
    "import lib"
   ]
  },
  {
   "cell_type": "code",
   "execution_count": 5,
   "id": "b51005c5-96f1-4771-855c-bab9c8c3b417",
   "metadata": {},
   "outputs": [
    {
     "data": {
      "application/vnd.jupyter.widget-view+json": {
       "model_id": "2a81d9d178d54f86af2a17cb771f1dc6",
       "version_major": 2,
       "version_minor": 0
      },
      "text/plain": [
       "VBox(children=(GridBox(children=(VBox(children=(HTML(value='<b style=\"display: flex; justify-content: center; …"
      ]
     },
     "execution_count": 5,
     "metadata": {},
     "output_type": "execute_result"
    }
   ],
   "source": [
    "name_dict = {\n",
    "    \"GSE210524_BETA.rep1rep2_allValidPairs.shuf522269193.mcool\": \"BETA\",\n",
    "    \"GSE210524_DE.rep2rep3_allValidPairs.shuf522269193.mcool\": \"DE\",\n",
    "    \"GSE210524_H9.rep2rep3_allValidPairs.shuf522269193.mcool\": \"H9\",\n",
    "    \"GSE210524_PGT.rep2rep3_allValidPairs.shuf522269193.mcool\": \"PGT\",\n",
    "    \"GSE210524_PH.rep1rep2_allValidPairs.shuf522269193.mcool\": \"PH\",\n",
    "    \"GSE210524_PP.rep2rep3_allValidPairs.shuf522269193.mcool\": \"PP\",\n",
    "}\n",
    "\n",
    "samples = list(name_dict.values())\n",
    "\n",
    "df = pd.read_parquet(\"data/output_2023_11_21_14_20_PCA-32_50000bp_hg38_post_processed.pq\")\n",
    "\n",
    "df[\"sample\"] = df[\"filename\"].map(name_dict)\n",
    "dfs = lib.partition_by_sample(df, samples)\n",
    "\n",
    "component = lib.init_scatters(\n",
    "    samples=list(zip(samples, dfs)),\n",
    "    xy_options=(\"umap1_n500\", \"umap2_n500\"),\n",
    "    color_options=(\"kmeans_5\", \"weight\"),\n",
    "    color_kwargs={\n",
    "        \"weight\": dict(\n",
    "            norm=colors.Normalize(),\n",
    "            map=\"Greys\"\n",
    "        ),\n",
    "    }\n",
    ")\n",
    "\n",
    "component.observe(lambda change: print(change.new), names=[\"coords\"])\n",
    "\n",
    "component"
   ]
  },
  {
   "cell_type": "code",
   "execution_count": null,
   "id": "4b1fe2e4-5dae-4b41-b627-4b02c0e6edd2",
   "metadata": {},
   "outputs": [],
   "source": []
  },
  {
   "cell_type": "code",
   "execution_count": null,
   "id": "874eb02f-10ab-4899-b4a6-6606334c9d52",
   "metadata": {},
   "outputs": [],
   "source": []
  }
 ],
 "metadata": {
  "kernelspec": {
   "display_name": "Python 3 (ipykernel)",
   "language": "python",
   "name": "python3"
  },
  "language_info": {
   "codemirror_mode": {
    "name": "ipython",
    "version": 3
   },
   "file_extension": ".py",
   "mimetype": "text/x-python",
   "name": "python",
   "nbconvert_exporter": "python",
   "pygments_lexer": "ipython3",
   "version": "3.11.5"
  }
 },
 "nbformat": 4,
 "nbformat_minor": 5
}

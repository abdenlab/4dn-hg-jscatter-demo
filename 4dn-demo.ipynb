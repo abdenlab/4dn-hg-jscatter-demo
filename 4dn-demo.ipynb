{
 "cells": [
  {
   "cell_type": "code",
   "execution_count": 15,
   "id": "0db612cc-81a0-4f4e-a090-26676735b8c4",
   "metadata": {},
   "outputs": [
    {
     "data": {
      "application/vnd.jupyter.widget-view+json": {
       "model_id": "acaae554a53c4cf1ade8052c0a6b69a0",
       "version_major": 2,
       "version_minor": 0
      },
      "text/plain": [
       "GridspecLayout(children=(Pane(layout=Layout(grid_area='widget001')), VBox(children=(Label(value='ESC'), HBox(c…"
      ]
     },
     "metadata": {},
     "output_type": "display_data"
    }
   ],
   "source": [
    "import functools\n",
    "import itertools\n",
    "import pathlib\n",
    "\n",
    "import hg\n",
    "import ipywidgets\n",
    "import jscatter\n",
    "import matplotlib.colors as colors\n",
    "import pandas as pd\n",
    "import traitlets\n",
    "import traittypes\n",
    "import tweakpane\n",
    "\n",
    "\n",
    "def load_eigs_and_clusters(stages: tuple[str], data_dir: pathlib.Path):\n",
    "    eigs = []\n",
    "    for name in stages:\n",
    "        eigs_path = (\n",
    "            data_dir\n",
    "            / f\"eigvecs.proj__ESC-Trypsin-FA-DSG-HindIII.{name}-Trypsin-FA-DSG-HindIII.E1-E10.hg38.50000.pq\"\n",
    "        )\n",
    "        eigs_df = pd.read_parquet(eigs_path).dropna()\n",
    "        eigs.append(eigs_df)\n",
    "\n",
    "    # create shared index for all dataframes\n",
    "    index = functools.reduce(pd.Index.intersection, [df.index for df in eigs])\n",
    "\n",
    "    return [df.loc[index] for df in eigs]\n",
    "\n",
    "\n",
    "def load_tracks(data_dir: pathlib.Path):\n",
    "    tracks = pd.read_parquet(data_dir / \"tracks.hg38.50000.pq\")\n",
    "    clusters = pd.read_parquet(\n",
    "        data_dir\n",
    "        / \"clusters.joint.proj__ESC-Trypsin-FA-DSG-HindIII.E1-E10.50000.kmeans_sm.pq\"\n",
    "    ).filter(regex=\"^kmeans_sm\\d+$\")\n",
    "    for col in clusters:\n",
    "        clusters[col] = clusters[col].astype(str)\n",
    "    config = {\n",
    "        \"GC\": dict(norm=colors.Normalize(vmin=0.35, vmax=0.65), map=\"RdYlBu_r\"),\n",
    "        \"centel_abs\": dict(norm=colors.Normalize(vmin=0, vmax=149043529), map=\"Greys\"),\n",
    "    }\n",
    "    return tracks.join(clusters), config\n",
    "\n",
    "\n",
    "def run(\n",
    "    stages: tuple[str] = (\"ESC\", \"DE\", \"HB\", \"iHEP\", \"mHEP\"),\n",
    "    x: str = \"E1\",\n",
    "    y: str = \"E2\",\n",
    "    data_dir: pathlib.Path = pathlib.Path.cwd() / \"data\",\n",
    "):\n",
    "    eigs = load_eigs_and_clusters(stages, data_dir)\n",
    "    scatters = [jscatter.Scatter(x=x, y=y, data=data, opacity=0.5) for data in eigs]\n",
    "    tracks, color_config = load_tracks(data_dir)\n",
    "\n",
    "    src = scatters[0]\n",
    "    for target in scatters[1:]:\n",
    "        ipywidgets.jslink((src.widget, \"selection\"), (target.widget, \"selection\"))\n",
    "\n",
    "    cols = [f\"E{i}\" for i in range(1, 11)]\n",
    "\n",
    "    pane = tweakpane.Pane()\n",
    "    pane.add_input(\"x\", x, options=dict(zip(cols, cols)))\n",
    "    pane.add_input(\"y\", y, options=dict(zip(cols, cols)))\n",
    "    pane.add_input(\n",
    "        \"color\",\n",
    "        \"GC\",\n",
    "        options={name: name for name in tracks.columns if name not in [\"start\", \"end\"]},\n",
    "    )\n",
    "\n",
    "    def on_change_x(change):\n",
    "        for scatter in scatters:\n",
    "            scatter.x(change.new)\n",
    "\n",
    "    def on_change_y(change):\n",
    "        for scatter in scatters:\n",
    "            scatter.y(change.new)\n",
    "\n",
    "    def on_color_change(change):\n",
    "        field = change[\"new\"]\n",
    "        for scatter in scatters:\n",
    "            track_data = tracks.loc[scatter._data.index]\n",
    "            scatter._data[\"_color\"] = track_data[field]\n",
    "            color_kwargs = color_config.get(field)\n",
    "            if color_kwargs is None:\n",
    "                color_kwargs = {}\n",
    "                if scatter._data[\"_color\"].dtype.name in (\"object\", \"category\"):\n",
    "                    scatter._data[\"_color\"] = scatter._data[\"_color\"].astype(\n",
    "                        \"category\"\n",
    "                    )  # ensure categorical\n",
    "                    color_kwargs[\"map\"] = dict(\n",
    "                        zip(\n",
    "                            scatter._data[\"_color\"].cat.categories,\n",
    "                            jscatter.glasbey_dark,\n",
    "                        )\n",
    "                    )\n",
    "                else:\n",
    "                    color_kwargs[\"norm\"] = colors.Normalize(\n",
    "                        vmin=scatter._data[\"_color\"].min(),\n",
    "                        vmax=scatter._data[\"_color\"].max(),\n",
    "                    )\n",
    "                    color_kwargs[\"map\"] = \"viridis_r\"\n",
    "            scatter.color(by=\"_color\", **color_kwargs)\n",
    "\n",
    "    pane.observe(on_change_x, names=[\"x\"])\n",
    "    pane.observe(on_change_y, names=[\"y\"])\n",
    "    pane.observe(on_color_change, names=[\"color\"])\n",
    "    on_color_change(dict(new=\"GC\"))\n",
    "\n",
    "    grid = ipywidgets.GridspecLayout(1, 6)\n",
    "    grid[0, 0] = pane\n",
    "\n",
    "    for name, scatter, (i, j) in zip(\n",
    "        stages,\n",
    "        scatters,\n",
    "        itertools.islice(\n",
    "            itertools.product(range(grid.n_rows), range(grid.n_columns)), 1, None\n",
    "        ),\n",
    "    ):\n",
    "        grid[i, j] = ipywidgets.VBox([ipywidgets.Label(name), scatter.show()])\n",
    "\n",
    "    grid.add_traits(\n",
    "        selection=traittypes.Array([]),\n",
    "        x=traitlets.Unicode(x),\n",
    "        y=traitlets.Unicode(y),\n",
    "    )\n",
    "\n",
    "    ipywidgets.dlink(\n",
    "        source=(scatters[0].widget, \"selection\"),\n",
    "        target=(grid, \"selection\"),\n",
    "        transform=lambda ind: scatters[0]._data.iloc[ind].index,\n",
    "    )\n",
    "\n",
    "    return grid\n",
    "\n",
    "\n",
    "grid = run()\n",
    "grid"
   ]
  },
  {
   "cell_type": "code",
   "execution_count": 17,
   "id": "9da77bb0",
   "metadata": {},
   "outputs": [
    {
     "data": {
      "application/vnd.jupyter.widget-view+json": {
       "model_id": "fbbabf4682934d94aaea6107c15500b6",
       "version_major": 2,
       "version_minor": 0
      },
      "text/plain": [
       "Output()"
      ]
     },
     "metadata": {},
     "output_type": "display_data"
    }
   ],
   "source": [
    "out"
   ]
  },
  {
   "cell_type": "code",
   "execution_count": 16,
   "id": "1fd65938-231a-4629-9de0-4c2d34968eea",
   "metadata": {},
   "outputs": [
    {
     "data": {
      "image/png": "[encoded data removed]",
      "text/plain": [
       "<Figure size 640x480 with 1 Axes>"
      ]
     },
     "metadata": {},
     "output_type": "display_data"
    }
   ],
   "source": [
    "import matplotlib.pyplot as plt\n",
    "import seaborn as sns\n",
    "import numpy as np\n",
    "\n",
    "from IPython.display import display\n",
    "import ipywidgets\n",
    "\n",
    "out = ipywidgets.Output()\n",
    "rna = pd.read_parquet(\"./data/tracks.hg38.50000.pq\").filter(regex=\"R1.fwd$\")\n",
    "\n",
    "fig = plt.figure()\n",
    "ax = plt.subplot(111)\n",
    "\n",
    "@out.capture(clear_output=True)\n",
    "def on_grid_selection_change(change):\n",
    "    try:\n",
    "        ax.clear()\n",
    "        sns.violinplot(x=\"variable\", y=\"value\", data=np.log10(rna.loc[change.new] + 1).melt(), ax=ax)\n",
    "        with out:\n",
    "            display(fig)\n",
    "    except Exception as e:\n",
    "        with out:\n",
    "            print(e)\n",
    "\n",
    "grid.observe(on_grid_selection_change, names=[\"selection\"])"
   ]
  },
  {
   "cell_type": "code",
   "execution_count": null,
   "id": "0addf534-523f-4d0d-8d3f-bbf3bf592106",
   "metadata": {},
   "outputs": [],
   "source": []
  },
  {
   "cell_type": "code",
   "execution_count": null,
   "id": "cbccccc8-c20a-47c4-bb99-e81b22e32d9e",
   "metadata": {},
   "outputs": [],
   "source": []
  },
  {
   "cell_type": "code",
   "execution_count": null,
   "id": "506ae8f9",
   "metadata": {},
   "outputs": [],
   "source": []
  }
 ],
 "metadata": {
  "kernelspec": {
   "display_name": "Python 3 (ipykernel)",
   "language": "python",
   "name": "python3"
  },
  "language_info": {
   "codemirror_mode": {
    "name": "ipython",
    "version": 3
   },
   "file_extension": ".py",
   "mimetype": "text/x-python",
   "name": "python",
   "nbconvert_exporter": "python",
   "pygments_lexer": "ipython3",
   "version": "3.11.0"
  }
 },
 "nbformat": 4,
 "nbformat_minor": 5
}
